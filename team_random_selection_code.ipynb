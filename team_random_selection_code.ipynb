{
 "cells": [
  {
   "cell_type": "markdown",
   "metadata": {},
   "source": [
    "# Team Random Selection Code :)\n"
   ]
  },
  {
   "cell_type": "code",
   "execution_count": 1,
   "metadata": {},
   "outputs": [],
   "source": [
    "import random\n",
    "\n",
    "# Define the four test lists\n",
    "level1_list = [1, 2, 3, 4]\n",
    "level2_list = ['a', 'b', 'c','d']\n",
    "level3_list = [99, 88, 77,66]\n",
    "level4_list = [\"1$\",\"2&\",\"3%\",\"4©\"]"
   ]
  },
  {
   "cell_type": "markdown",
   "metadata": {},
   "source": [
    "Think about a code that help us to have random new mixed lists, each list should have one element from each level lists.\n",
    "\n",
    "Output may be like that following:\n",
    "```python\n",
    "team1 = [1, 'c', 88, '2&']\n",
    "team2 = [4, 'a', 99, '3%']\n",
    "team3 = [2, 'b', 77, '4©']\n",
    "team4 = [3, 'd', 66, '1$']\n",
    "```\n",
    "\n"
   ]
  },
  {
   "cell_type": "code",
   "execution_count": 2,
   "metadata": {},
   "outputs": [
    {
     "name": "stdout",
     "output_type": "stream",
     "text": [
      "team1 = [1, 'c', 88, '3%']\n",
      "team2 = [2, 'a', 99, '1$']\n",
      "team3 = [4, 'b', 77, '4©']\n",
      "team4 = [3, 'd', 66, '2&']\n"
     ]
    }
   ],
   "source": [
    "# your code here\n",
    "list_of_levels = [level1_list, level2_list, level3_list, level4_list]\n",
    "list_of_teams = []\n",
    "\n",
    "temp = [random.shuffle(list_of_levels[i]) for i in range(0, 4)]\n",
    "\n",
    "#for j in range(0,4):\n",
    "#    temp = [list_of_levels[i][j] for i in range(0, 4)]\n",
    "#    list_of_teams.append(temp)\n",
    "#    print(f\"team{j+1} = {temp}\")\n",
    "\n",
    "list_of_teams = [[list_of_levels[i][j] for i in range(4)] for j in range(4)]\n",
    "for j, temp in enumerate(list_of_teams):\n",
    "    print(f\"team{j+1} = {temp}\")\n"
   ]
  }
 ],
 "metadata": {
  "kernelspec": {
   "display_name": "pubmed",
   "language": "python",
   "name": "python3"
  },
  "language_info": {
   "codemirror_mode": {
    "name": "ipython",
    "version": 3
   },
   "file_extension": ".py",
   "mimetype": "text/x-python",
   "name": "python",
   "nbconvert_exporter": "python",
   "pygments_lexer": "ipython3",
   "version": "3.11.7"
  }
 },
 "nbformat": 4,
 "nbformat_minor": 2
}
